{
  "nbformat": 4,
  "nbformat_minor": 0,
  "metadata": {
    "colab": {
      "name": "PatriciaReginaMendes.ipynb",
      "provenance": [],
      "collapsed_sections": []
    },
    "kernelspec": {
      "name": "python3",
      "display_name": "Python 3"
    }
  },
  "cells": [
    {
      "cell_type": "markdown",
      "metadata": {
        "id": "OqJFdd7gg1G5"
      },
      "source": [
        "# Patricia Regina Mendes\r\n"
      ]
    },
    {
      "cell_type": "code",
      "metadata": {
        "id": "Kxrdf68N__ch"
      },
      "source": [
        "import pandas as pd\r\n",
        "import matplotlib\r\n",
        "import plotly\r\n",
        "import plotly.graph_objs as go\r\n",
        "import cufflinks as cf\r\n",
        "import plotly.offline as py \r\n",
        "import seaborn as sns"
      ],
      "execution_count": 1,
      "outputs": []
    },
    {
      "cell_type": "code",
      "metadata": {
        "id": "KNlADHE_AeON"
      },
      "source": [
        "microdados = pd.read_parquet('/content/drive/MyDrive/desafio-data-analyst-main/desafio-data-analyst-main/data/selling_games.parquet') \r\n"
      ],
      "execution_count": 3,
      "outputs": []
    },
    {
      "cell_type": "code",
      "metadata": {
        "colab": {
          "base_uri": "https://localhost:8080/",
          "height": 419
        },
        "id": "S72nUpDItnU0",
        "outputId": "5313cf8f-6513-40cb-f0a1-ffed322ffc35"
      },
      "source": [
        "microdados"
      ],
      "execution_count": 4,
      "outputs": [
        {
          "output_type": "execute_result",
          "data": {
            "text/html": [
              "<div>\n",
              "<style scoped>\n",
              "    .dataframe tbody tr th:only-of-type {\n",
              "        vertical-align: middle;\n",
              "    }\n",
              "\n",
              "    .dataframe tbody tr th {\n",
              "        vertical-align: top;\n",
              "    }\n",
              "\n",
              "    .dataframe thead th {\n",
              "        text-align: right;\n",
              "    }\n",
              "</style>\n",
              "<table border=\"1\" class=\"dataframe\">\n",
              "  <thead>\n",
              "    <tr style=\"text-align: right;\">\n",
              "      <th></th>\n",
              "      <th>Name</th>\n",
              "      <th>Platform</th>\n",
              "      <th>Year</th>\n",
              "      <th>Genre</th>\n",
              "      <th>Publisher</th>\n",
              "      <th>NA_Sales</th>\n",
              "      <th>EU_Sales</th>\n",
              "      <th>JP_Sales</th>\n",
              "      <th>Other_Sales</th>\n",
              "      <th>Global_Sales</th>\n",
              "    </tr>\n",
              "  </thead>\n",
              "  <tbody>\n",
              "    <tr>\n",
              "      <th>0</th>\n",
              "      <td>Wii Sports</td>\n",
              "      <td>Wii</td>\n",
              "      <td>2006.0</td>\n",
              "      <td>Sports</td>\n",
              "      <td>Nintendo</td>\n",
              "      <td>41.49</td>\n",
              "      <td>29.02</td>\n",
              "      <td>3.77</td>\n",
              "      <td>8.46</td>\n",
              "      <td>82.74</td>\n",
              "    </tr>\n",
              "    <tr>\n",
              "      <th>1</th>\n",
              "      <td>Super Mario Bros.</td>\n",
              "      <td>NES</td>\n",
              "      <td>1985.0</td>\n",
              "      <td>Platform</td>\n",
              "      <td>Nintendo</td>\n",
              "      <td>29.08</td>\n",
              "      <td>3.58</td>\n",
              "      <td>6.81</td>\n",
              "      <td>0.77</td>\n",
              "      <td>40.24</td>\n",
              "    </tr>\n",
              "    <tr>\n",
              "      <th>2</th>\n",
              "      <td>Mario Kart Wii</td>\n",
              "      <td>Wii</td>\n",
              "      <td>2008.0</td>\n",
              "      <td>Racing</td>\n",
              "      <td>Nintendo</td>\n",
              "      <td>15.85</td>\n",
              "      <td>12.88</td>\n",
              "      <td>3.79</td>\n",
              "      <td>3.31</td>\n",
              "      <td>35.82</td>\n",
              "    </tr>\n",
              "    <tr>\n",
              "      <th>3</th>\n",
              "      <td>Wii Sports Resort</td>\n",
              "      <td>Wii</td>\n",
              "      <td>2009.0</td>\n",
              "      <td>Sports</td>\n",
              "      <td>Nintendo</td>\n",
              "      <td>15.75</td>\n",
              "      <td>11.01</td>\n",
              "      <td>3.28</td>\n",
              "      <td>2.96</td>\n",
              "      <td>33.00</td>\n",
              "    </tr>\n",
              "    <tr>\n",
              "      <th>4</th>\n",
              "      <td>Pokemon Red/Pokemon Blue</td>\n",
              "      <td>GB</td>\n",
              "      <td>1996.0</td>\n",
              "      <td>Role-Playing</td>\n",
              "      <td>Nintendo</td>\n",
              "      <td>11.27</td>\n",
              "      <td>8.89</td>\n",
              "      <td>10.22</td>\n",
              "      <td>1.00</td>\n",
              "      <td>31.37</td>\n",
              "    </tr>\n",
              "    <tr>\n",
              "      <th>...</th>\n",
              "      <td>...</td>\n",
              "      <td>...</td>\n",
              "      <td>...</td>\n",
              "      <td>...</td>\n",
              "      <td>...</td>\n",
              "      <td>...</td>\n",
              "      <td>...</td>\n",
              "      <td>...</td>\n",
              "      <td>...</td>\n",
              "      <td>...</td>\n",
              "    </tr>\n",
              "    <tr>\n",
              "      <th>16593</th>\n",
              "      <td>Woody Woodpecker in Crazy Castle 5</td>\n",
              "      <td>GBA</td>\n",
              "      <td>2002.0</td>\n",
              "      <td>Platform</td>\n",
              "      <td>Kemco</td>\n",
              "      <td>0.01</td>\n",
              "      <td>0.00</td>\n",
              "      <td>0.00</td>\n",
              "      <td>0.00</td>\n",
              "      <td>0.01</td>\n",
              "    </tr>\n",
              "    <tr>\n",
              "      <th>16594</th>\n",
              "      <td>Men in Black II: Alien Escape</td>\n",
              "      <td>GC</td>\n",
              "      <td>2003.0</td>\n",
              "      <td>Shooter</td>\n",
              "      <td>Infogrames</td>\n",
              "      <td>0.01</td>\n",
              "      <td>0.00</td>\n",
              "      <td>0.00</td>\n",
              "      <td>0.00</td>\n",
              "      <td>0.01</td>\n",
              "    </tr>\n",
              "    <tr>\n",
              "      <th>16595</th>\n",
              "      <td>SCORE International Baja 1000: The Official Game</td>\n",
              "      <td>PS2</td>\n",
              "      <td>2008.0</td>\n",
              "      <td>Racing</td>\n",
              "      <td>Activision</td>\n",
              "      <td>0.00</td>\n",
              "      <td>0.00</td>\n",
              "      <td>0.00</td>\n",
              "      <td>0.00</td>\n",
              "      <td>0.01</td>\n",
              "    </tr>\n",
              "    <tr>\n",
              "      <th>16596</th>\n",
              "      <td>Know How 2</td>\n",
              "      <td>DS</td>\n",
              "      <td>2010.0</td>\n",
              "      <td>Puzzle</td>\n",
              "      <td>7G//AMES</td>\n",
              "      <td>0.00</td>\n",
              "      <td>0.01</td>\n",
              "      <td>0.00</td>\n",
              "      <td>0.00</td>\n",
              "      <td>0.01</td>\n",
              "    </tr>\n",
              "    <tr>\n",
              "      <th>16597</th>\n",
              "      <td>Spirits &amp; Spells</td>\n",
              "      <td>GBA</td>\n",
              "      <td>2003.0</td>\n",
              "      <td>Platform</td>\n",
              "      <td>Wanadoo</td>\n",
              "      <td>0.01</td>\n",
              "      <td>0.00</td>\n",
              "      <td>0.00</td>\n",
              "      <td>0.00</td>\n",
              "      <td>0.01</td>\n",
              "    </tr>\n",
              "  </tbody>\n",
              "</table>\n",
              "<p>16598 rows × 10 columns</p>\n",
              "</div>"
            ],
            "text/plain": [
              "                                                   Name  ... Global_Sales\n",
              "0                                            Wii Sports  ...        82.74\n",
              "1                                     Super Mario Bros.  ...        40.24\n",
              "2                                        Mario Kart Wii  ...        35.82\n",
              "3                                     Wii Sports Resort  ...        33.00\n",
              "4                              Pokemon Red/Pokemon Blue  ...        31.37\n",
              "...                                                 ...  ...          ...\n",
              "16593                Woody Woodpecker in Crazy Castle 5  ...         0.01\n",
              "16594                     Men in Black II: Alien Escape  ...         0.01\n",
              "16595  SCORE International Baja 1000: The Official Game  ...         0.01\n",
              "16596                                        Know How 2  ...         0.01\n",
              "16597                                  Spirits & Spells  ...         0.01\n",
              "\n",
              "[16598 rows x 10 columns]"
            ]
          },
          "metadata": {
            "tags": []
          },
          "execution_count": 4
        }
      ]
    },
    {
      "cell_type": "markdown",
      "metadata": {
        "id": "igof1r33_z1m"
      },
      "source": [
        "**Primeiro exercicio**: Evolução dos vendidos Globalmente por Genero.\r\n"
      ]
    },
    {
      "cell_type": "code",
      "metadata": {
        "id": "f6GpXvTVCBDL"
      },
      "source": [
        "ColunasSelecionadas = [ 'Genre','Global_Sales' ]"
      ],
      "execution_count": 5,
      "outputs": []
    },
    {
      "cell_type": "code",
      "metadata": {
        "id": "dQ_KS4uyCta7"
      },
      "source": [
        "primeiroExe = microdados.filter(items=ColunasSelecionadas).groupby('Genre').sum().sort_values(by='Global_Sales', ascending = False)\r\n"
      ],
      "execution_count": 6,
      "outputs": []
    },
    {
      "cell_type": "code",
      "metadata": {
        "colab": {
          "base_uri": "https://localhost:8080/",
          "height": 297
        },
        "id": "yyGjaY_TDLss",
        "outputId": "4e37d291-3bd4-4263-ae5b-a8b8c9e529a6"
      },
      "source": [
        "primeiroExe.plot()"
      ],
      "execution_count": 7,
      "outputs": [
        {
          "output_type": "execute_result",
          "data": {
            "text/plain": [
              "<matplotlib.axes._subplots.AxesSubplot at 0x7fa2f4a7b390>"
            ]
          },
          "metadata": {
            "tags": []
          },
          "execution_count": 7
        },
        {
          "output_type": "display_data",
          "data": {
            "image/png": "[encoded data removed]",
            "text/plain": [
              "<Figure size 432x288 with 1 Axes>"
            ]
          },
          "metadata": {
            "tags": [],
            "needs_background": "light"
          }
        }
      ]
    },
    {
      "cell_type": "markdown",
      "metadata": {
        "id": "vC4f0arCA8Jh"
      },
      "source": [
        "**Segundo exercicio** Grafico linhas evolução venda NA, EU, JP e outros paises, por Genero"
      ]
    },
    {
      "cell_type": "code",
      "metadata": {
        "id": "sx5lWu5vDbDg"
      },
      "source": [
        "ColunasSelecionadas = ['Name','Genre','Global_Sales' ]"
      ],
      "execution_count": 62,
      "outputs": []
    },
    {
      "cell_type": "code",
      "metadata": {
        "id": "AaHIzQXpGURk"
      },
      "source": [
        "segundoExe = microdados.filter(items=ColunasSelecionadas).groupby('Genre').sum()\r\n"
      ],
      "execution_count": 63,
      "outputs": []
    },
    {
      "cell_type": "code",
      "metadata": {
        "colab": {
          "base_uri": "https://localhost:8080/",
          "height": 296
        },
        "id": "Q8qGauzZGbV8",
        "outputId": "b4e69039-dba3-4039-d601-6c38a6b611ac"
      },
      "source": [
        "segundoExe.plot()"
      ],
      "execution_count": 58,
      "outputs": [
        {
          "output_type": "execute_result",
          "data": {
            "text/plain": [
              "<matplotlib.axes._subplots.AxesSubplot at 0x7f54299ca7b8>"
            ]
          },
          "metadata": {
            "tags": []
          },
          "execution_count": 58
        },
        {
          "output_type": "display_data",
          "data": {
            "image/png": "[encoded data removed]",
            "text/plain": [
              "<Figure size 432x288 with 1 Axes>"
            ]
          },
          "metadata": {
            "tags": [],
            "needs_background": "light"
          }
        }
      ]
    },
    {
      "cell_type": "markdown",
      "metadata": {
        "id": "C3sDOu5XBpVD"
      },
      "source": [
        "**Terceiro Exercicio** Evolução por Plataforma de Jogo. \r\n"
      ]
    },
    {
      "cell_type": "code",
      "metadata": {
        "id": "tAluEB3bDmDj"
      },
      "source": [
        "ColunasSelecionadas = ['Platform','Global_Sales']"
      ],
      "execution_count": 65,
      "outputs": []
    },
    {
      "cell_type": "code",
      "metadata": {
        "id": "MKVQstH9GpxR"
      },
      "source": [
        "terceiroExe = microdados.filter(items=ColunasSelecionadas).groupby('Platform').sum().sort_values(by='Global_Sales', ascending = False)"
      ],
      "execution_count": 66,
      "outputs": []
    },
    {
      "cell_type": "code",
      "metadata": {
        "colab": {
          "base_uri": "https://localhost:8080/",
          "height": 296
        },
        "id": "FdhAUmixHVEM",
        "outputId": "ed7eabeb-3f12-433a-c93d-85b6d12ec5d2"
      },
      "source": [
        "terceiroExe.plot()"
      ],
      "execution_count": 67,
      "outputs": [
        {
          "output_type": "execute_result",
          "data": {
            "text/plain": [
              "<matplotlib.axes._subplots.AxesSubplot at 0x7f5429900f28>"
            ]
          },
          "metadata": {
            "tags": []
          },
          "execution_count": 67
        },
        {
          "output_type": "display_data",
          "data": {
            "image/png": "[encoded data removed]",
            "text/plain": [
              "<Figure size 432x288 with 1 Axes>"
            ]
          },
          "metadata": {
            "tags": [],
            "needs_background": "light"
          }
        }
      ]
    },
    {
      "cell_type": "markdown",
      "metadata": {
        "id": "WWHZ5aoXBqJx"
      },
      "source": [
        "**Quarto exercico** :Rank de 5 jogos mais vendidos\r\n"
      ]
    },
    {
      "cell_type": "code",
      "metadata": {
        "id": "VtEQEjzOBP1W"
      },
      "source": [
        "ColunasSelecionadas = ['Name','Genre','Publisher','Platform', 'Global_Sales' ]"
      ],
      "execution_count": 9,
      "outputs": []
    },
    {
      "cell_type": "code",
      "metadata": {
        "id": "xQV-5Ay5Bn9K"
      },
      "source": [
        "quartoExe = microdados.filter(items=ColunasSelecionadas).groupby(['Name','Genre','Publisher']).sum().sort_values(by='Global_Sales', ascending = False)"
      ],
      "execution_count": 15,
      "outputs": []
    },
    {
      "cell_type": "code",
      "metadata": {
        "colab": {
          "base_uri": "https://localhost:8080/",
          "height": 235
        },
        "id": "GYwfskYWHvLh",
        "outputId": "830db829-63eb-4c83-a78a-731e0aef0850"
      },
      "source": [
        "quartoExe.head()"
      ],
      "execution_count": 16,
      "outputs": [
        {
          "output_type": "execute_result",
          "data": {
            "text/html": [
              "<div>\n",
              "<style scoped>\n",
              "    .dataframe tbody tr th:only-of-type {\n",
              "        vertical-align: middle;\n",
              "    }\n",
              "\n",
              "    .dataframe tbody tr th {\n",
              "        vertical-align: top;\n",
              "    }\n",
              "\n",
              "    .dataframe thead th {\n",
              "        text-align: right;\n",
              "    }\n",
              "</style>\n",
              "<table border=\"1\" class=\"dataframe\">\n",
              "  <thead>\n",
              "    <tr style=\"text-align: right;\">\n",
              "      <th></th>\n",
              "      <th></th>\n",
              "      <th></th>\n",
              "      <th>Global_Sales</th>\n",
              "    </tr>\n",
              "    <tr>\n",
              "      <th>Name</th>\n",
              "      <th>Genre</th>\n",
              "      <th>Publisher</th>\n",
              "      <th></th>\n",
              "    </tr>\n",
              "  </thead>\n",
              "  <tbody>\n",
              "    <tr>\n",
              "      <th>Wii Sports</th>\n",
              "      <th>Sports</th>\n",
              "      <th>Nintendo</th>\n",
              "      <td>82.74</td>\n",
              "    </tr>\n",
              "    <tr>\n",
              "      <th>Grand Theft Auto V</th>\n",
              "      <th>Action</th>\n",
              "      <th>Take-Two Interactive</th>\n",
              "      <td>55.92</td>\n",
              "    </tr>\n",
              "    <tr>\n",
              "      <th>Super Mario Bros.</th>\n",
              "      <th>Platform</th>\n",
              "      <th>Nintendo</th>\n",
              "      <td>45.31</td>\n",
              "    </tr>\n",
              "    <tr>\n",
              "      <th>Tetris</th>\n",
              "      <th>Puzzle</th>\n",
              "      <th>Nintendo</th>\n",
              "      <td>35.84</td>\n",
              "    </tr>\n",
              "    <tr>\n",
              "      <th>Mario Kart Wii</th>\n",
              "      <th>Racing</th>\n",
              "      <th>Nintendo</th>\n",
              "      <td>35.82</td>\n",
              "    </tr>\n",
              "  </tbody>\n",
              "</table>\n",
              "</div>"
            ],
            "text/plain": [
              "                                                  Global_Sales\n",
              "Name               Genre    Publisher                         \n",
              "Wii Sports         Sports   Nintendo                     82.74\n",
              "Grand Theft Auto V Action   Take-Two Interactive         55.92\n",
              "Super Mario Bros.  Platform Nintendo                     45.31\n",
              "Tetris             Puzzle   Nintendo                     35.84\n",
              "Mario Kart Wii     Racing   Nintendo                     35.82"
            ]
          },
          "metadata": {
            "tags": []
          },
          "execution_count": 16
        }
      ]
    },
    {
      "cell_type": "markdown",
      "metadata": {
        "id": "hFP0kL5qeKwh"
      },
      "source": [
        "# Conclusão"
      ]
    },
    {
      "cell_type": "markdown",
      "metadata": {
        "id": "CydeeoU8epsi"
      },
      "source": [
        "Com base no estudo de dados, é possivel verificar que o Genero de jogo mais vendido seria de Sport, sendo o jogo Will Sport da Nintendo.\r\n",
        "A plataforma mais utilzada é do PS2. Podemos analisar também que na America do Norte e a região que mais possuem jogos vendidos, do genero de Ação. "
      ]
    },
    {
      "cell_type": "code",
      "metadata": {
        "id": "6rRNrpAUgiKo"
      },
      "source": [
        ""
      ],
      "execution_count": null,
      "outputs": []
    },
    {
      "cell_type": "code",
      "metadata": {
        "id": "GtKIsfz_giTc"
      },
      "source": [
        ""
      ],
      "execution_count": null,
      "outputs": []
    },
    {
      "cell_type": "markdown",
      "metadata": {
        "id": "BdGj4jmogjl3"
      },
      "source": [
        "**CODIGOS ADICIONAIS PARA ESTUDO**"
      ]
    },
    {
      "cell_type": "code",
      "metadata": {
        "colab": {
          "base_uri": "https://localhost:8080/"
        },
        "id": "QDsmsOknCdr0",
        "outputId": "c59cc31a-5610-49ed-d1a3-d1141c8a9353"
      },
      "source": [
        "microdados.columns.values"
      ],
      "execution_count": 11,
      "outputs": [
        {
          "output_type": "execute_result",
          "data": {
            "text/plain": [
              "array(['Name', 'Platform', 'Year', 'Genre', 'Publisher', 'NA_Sales',\n",
              "       'EU_Sales', 'JP_Sales', 'Other_Sales', 'Global_Sales'],\n",
              "      dtype=object)"
            ]
          },
          "metadata": {
            "tags": []
          },
          "execution_count": 11
        }
      ]
    },
    {
      "cell_type": "code",
      "metadata": {
        "id": "B4MHYxrkvfYS"
      },
      "source": [
        "colunaName = microdados['Name']"
      ],
      "execution_count": 9,
      "outputs": []
    },
    {
      "cell_type": "code",
      "metadata": {
        "colab": {
          "base_uri": "https://localhost:8080/"
        },
        "id": "9DDFOokExmGF",
        "outputId": "58c945b9-f0b4-418a-dce7-8c1c384614e5"
      },
      "source": [
        "colunaName"
      ],
      "execution_count": 10,
      "outputs": [
        {
          "output_type": "execute_result",
          "data": {
            "text/plain": [
              "0                                              Wii Sports\n",
              "1                                       Super Mario Bros.\n",
              "2                                          Mario Kart Wii\n",
              "3                                       Wii Sports Resort\n",
              "4                                Pokemon Red/Pokemon Blue\n",
              "                               ...                       \n",
              "16593                  Woody Woodpecker in Crazy Castle 5\n",
              "16594                       Men in Black II: Alien Escape\n",
              "16595    SCORE International Baja 1000: The Official Game\n",
              "16596                                          Know How 2\n",
              "16597                                    Spirits & Spells\n",
              "Name: Name, Length: 16598, dtype: object"
            ]
          },
          "metadata": {
            "tags": []
          },
          "execution_count": 10
        }
      ]
    },
    {
      "cell_type": "code",
      "metadata": {
        "colab": {
          "base_uri": "https://localhost:8080/"
        },
        "id": "2aE2xAwFx4VQ",
        "outputId": "74da9bb1-e176-4553-9adf-9346be33d3cf"
      },
      "source": [
        "colunaName.value_counts().sort_index()"
      ],
      "execution_count": 16,
      "outputs": [
        {
          "output_type": "execute_result",
          "data": {
            "text/plain": [
              "'98 Koshien                                1\n",
              ".hack//G.U. Vol.1//Rebirth                 1\n",
              ".hack//G.U. Vol.2//Reminisce               1\n",
              ".hack//G.U. Vol.2//Reminisce (jp sales)    1\n",
              ".hack//G.U. Vol.3//Redemption              1\n",
              "                                          ..\n",
              "thinkSMART: Chess for Kids                 1\n",
              "uDraw Studio                               1\n",
              "uDraw Studio: Instant Artist               2\n",
              "wwe Smackdown vs. Raw 2006                 1\n",
              "¡Shin Chan Flipa en colores!               1\n",
              "Name: Name, Length: 11493, dtype: int64"
            ]
          },
          "metadata": {
            "tags": []
          },
          "execution_count": 16
        }
      ]
    },
    {
      "cell_type": "code",
      "metadata": {
        "id": "hEH8_Kplx4sP"
      },
      "source": [
        "colunaPlatform = microdados['Platform']\r\n",
        "colunaYear =  microdados['Year']\r\n",
        "colunaGenre = microdados['Genre']\r\n",
        "colunaPublisher = microdados['Publisher']\r\n",
        "colunaNASales = microdados['NA_Sales']\r\n",
        "colunaEUSales =  microdados['EU_Sales']\r\n",
        "colunaJPSales = microdados['JP_Sales']\r\n",
        "colunasOtherSales = microdados['Other_Sales']\r\n",
        "colunaGlobalSales =  microdados['Global_Sales']"
      ],
      "execution_count": 17,
      "outputs": []
    },
    {
      "cell_type": "code",
      "metadata": {
        "colab": {
          "base_uri": "https://localhost:8080/",
          "height": 282
        },
        "id": "mBk6O2vrx4vV",
        "outputId": "0ebc35c8-d54e-4676-cec7-75e393f2b462"
      },
      "source": [
        "colunaGenre.value_counts().hist(bins=30 )"
      ],
      "execution_count": 101,
      "outputs": [
        {
          "output_type": "execute_result",
          "data": {
            "text/plain": [
              "<matplotlib.axes._subplots.AxesSubplot at 0x7fa22b9e8748>"
            ]
          },
          "metadata": {
            "tags": []
          },
          "execution_count": 101
        },
        {
          "output_type": "display_data",
          "data": {
            "image/png": "[encoded data removed]",
            "text/plain": [
              "<Figure size 432x288 with 1 Axes>"
            ]
          },
          "metadata": {
            "tags": [],
            "needs_background": "light"
          }
        }
      ]
    },
    {
      "cell_type": "code",
      "metadata": {
        "colab": {
          "base_uri": "https://localhost:8080/",
          "height": 204
        },
        "id": "6h6hLsiGx4zl",
        "outputId": "7f1a2ac8-94eb-435b-dac4-067164d58264"
      },
      "source": [
        "microdados.head()"
      ],
      "execution_count": 35,
      "outputs": [
        {
          "output_type": "execute_result",
          "data": {
            "text/html": [
              "<div>\n",
              "<style scoped>\n",
              "    .dataframe tbody tr th:only-of-type {\n",
              "        vertical-align: middle;\n",
              "    }\n",
              "\n",
              "    .dataframe tbody tr th {\n",
              "        vertical-align: top;\n",
              "    }\n",
              "\n",
              "    .dataframe thead th {\n",
              "        text-align: right;\n",
              "    }\n",
              "</style>\n",
              "<table border=\"1\" class=\"dataframe\">\n",
              "  <thead>\n",
              "    <tr style=\"text-align: right;\">\n",
              "      <th></th>\n",
              "      <th>Name</th>\n",
              "      <th>Platform</th>\n",
              "      <th>Year</th>\n",
              "      <th>Genre</th>\n",
              "      <th>Publisher</th>\n",
              "      <th>NA_Sales</th>\n",
              "      <th>EU_Sales</th>\n",
              "      <th>JP_Sales</th>\n",
              "      <th>Other_Sales</th>\n",
              "      <th>Global_Sales</th>\n",
              "    </tr>\n",
              "  </thead>\n",
              "  <tbody>\n",
              "    <tr>\n",
              "      <th>0</th>\n",
              "      <td>Wii Sports</td>\n",
              "      <td>Wii</td>\n",
              "      <td>2006.0</td>\n",
              "      <td>Sports</td>\n",
              "      <td>Nintendo</td>\n",
              "      <td>41.49</td>\n",
              "      <td>29.02</td>\n",
              "      <td>3.77</td>\n",
              "      <td>8.46</td>\n",
              "      <td>82.74</td>\n",
              "    </tr>\n",
              "    <tr>\n",
              "      <th>1</th>\n",
              "      <td>Super Mario Bros.</td>\n",
              "      <td>NES</td>\n",
              "      <td>1985.0</td>\n",
              "      <td>Platform</td>\n",
              "      <td>Nintendo</td>\n",
              "      <td>29.08</td>\n",
              "      <td>3.58</td>\n",
              "      <td>6.81</td>\n",
              "      <td>0.77</td>\n",
              "      <td>40.24</td>\n",
              "    </tr>\n",
              "    <tr>\n",
              "      <th>2</th>\n",
              "      <td>Mario Kart Wii</td>\n",
              "      <td>Wii</td>\n",
              "      <td>2008.0</td>\n",
              "      <td>Racing</td>\n",
              "      <td>Nintendo</td>\n",
              "      <td>15.85</td>\n",
              "      <td>12.88</td>\n",
              "      <td>3.79</td>\n",
              "      <td>3.31</td>\n",
              "      <td>35.82</td>\n",
              "    </tr>\n",
              "    <tr>\n",
              "      <th>3</th>\n",
              "      <td>Wii Sports Resort</td>\n",
              "      <td>Wii</td>\n",
              "      <td>2009.0</td>\n",
              "      <td>Sports</td>\n",
              "      <td>Nintendo</td>\n",
              "      <td>15.75</td>\n",
              "      <td>11.01</td>\n",
              "      <td>3.28</td>\n",
              "      <td>2.96</td>\n",
              "      <td>33.00</td>\n",
              "    </tr>\n",
              "    <tr>\n",
              "      <th>4</th>\n",
              "      <td>Pokemon Red/Pokemon Blue</td>\n",
              "      <td>GB</td>\n",
              "      <td>1996.0</td>\n",
              "      <td>Role-Playing</td>\n",
              "      <td>Nintendo</td>\n",
              "      <td>11.27</td>\n",
              "      <td>8.89</td>\n",
              "      <td>10.22</td>\n",
              "      <td>1.00</td>\n",
              "      <td>31.37</td>\n",
              "    </tr>\n",
              "  </tbody>\n",
              "</table>\n",
              "</div>"
            ],
            "text/plain": [
              "                       Name Platform  ...  Other_Sales Global_Sales\n",
              "0                Wii Sports      Wii  ...         8.46        82.74\n",
              "1         Super Mario Bros.      NES  ...         0.77        40.24\n",
              "2            Mario Kart Wii      Wii  ...         3.31        35.82\n",
              "3         Wii Sports Resort      Wii  ...         2.96        33.00\n",
              "4  Pokemon Red/Pokemon Blue       GB  ...         1.00        31.37\n",
              "\n",
              "[5 rows x 10 columns]"
            ]
          },
          "metadata": {
            "tags": []
          },
          "execution_count": 35
        }
      ]
    },
    {
      "cell_type": "code",
      "metadata": {
        "id": "GmjEXgMXx42a"
      },
      "source": [
        "plotly.offline.init_notebook_mode(connected=True)\r\n"
      ],
      "execution_count": null,
      "outputs": []
    },
    {
      "cell_type": "code",
      "metadata": {
        "id": "Fv6kBlRMx44c"
      },
      "source": [
        "Vendas_por_genero = microdados.groupby(by='Genre').Global_Sales.sum()"
      ],
      "execution_count": 86,
      "outputs": []
    },
    {
      "cell_type": "code",
      "metadata": {
        "colab": {
          "base_uri": "https://localhost:8080/"
        },
        "id": "kLgQmNJTx460",
        "outputId": "0b9d82b6-e7ca-48ff-9c0d-9e206628a30c"
      },
      "source": [
        "Vendas_por_genero.head()"
      ],
      "execution_count": 87,
      "outputs": [
        {
          "output_type": "execute_result",
          "data": {
            "text/plain": [
              "Genre\n",
              "Action       1751.18\n",
              "Adventure     239.04\n",
              "Fighting      448.91\n",
              "Misc          809.96\n",
              "Platform      831.37\n",
              "Name: Global_Sales, dtype: float64"
            ]
          },
          "metadata": {
            "tags": []
          },
          "execution_count": 87
        }
      ]
    },
    {
      "cell_type": "code",
      "metadata": {
        "id": "20ayubWwx49M"
      },
      "source": [
        "plotly.offline.init_notebook_mode(connected=True)\r\n"
      ],
      "execution_count": null,
      "outputs": []
    },
    {
      "cell_type": "code",
      "metadata": {
        "id": "oO0jOeH7ROol"
      },
      "source": [
        "data = [go.Bar(x = Vendas_por_genero, y=colunaGlobalSales.value_counts(), marker = {'color': 'lightblue'})]"
      ],
      "execution_count": 74,
      "outputs": []
    },
    {
      "cell_type": "code",
      "metadata": {
        "id": "TTl_TsNux4_b"
      },
      "source": [
        "configuracoes_layout = go.Layout( title ='Vendas no Período', \r\n",
        "                                yaxis={'title':'Valores em vendas'},\r\n",
        "                                xaxis={'title':'Período'})\r\n"
      ],
      "execution_count": 75,
      "outputs": []
    },
    {
      "cell_type": "code",
      "metadata": {
        "id": "Z8FEKvtpQ9ft"
      },
      "source": [
        "fig = go.Figure(data =data, layout=configuracoes_layout)\r\n"
      ],
      "execution_count": 76,
      "outputs": []
    },
    {
      "cell_type": "code",
      "metadata": {
        "id": "7odVX4XKQ9o4"
      },
      "source": [
        "data = [go.Scatter(x=Vendas_por_genero.index,\r\n",
        "                   y=Vendas_por_genero.values)]\r\n",
        "\r\n"
      ],
      "execution_count": 83,
      "outputs": []
    },
    {
      "cell_type": "code",
      "metadata": {
        "id": "qNTddgXyQ9rc"
      },
      "source": [
        "py.iplot(data)"
      ],
      "execution_count": null,
      "outputs": []
    },
    {
      "cell_type": "code",
      "metadata": {
        "id": "Z0p8pryKphSc"
      },
      "source": [
        "test = microdados.filter(items=['Genre','Global_Sales']).groupby('Genre').count().sort_values(by = 'Global_Sales',ascending=False)"
      ],
      "execution_count": 94,
      "outputs": []
    },
    {
      "cell_type": "code",
      "metadata": {
        "colab": {
          "base_uri": "https://localhost:8080/",
          "height": 296
        },
        "id": "UppiSsJfphVV",
        "outputId": "7d07f63a-e5c9-4143-f097-114b7e05446a"
      },
      "source": [
        "test.plot()"
      ],
      "execution_count": 95,
      "outputs": [
        {
          "output_type": "execute_result",
          "data": {
            "text/plain": [
              "<matplotlib.axes._subplots.AxesSubplot at 0x7fa22ae37550>"
            ]
          },
          "metadata": {
            "tags": []
          },
          "execution_count": 95
        },
        {
          "output_type": "display_data",
          "data": {
            "image/png": "[encoded data removed]",
            "text/plain": [
              "<Figure size 432x288 with 1 Axes>"
            ]
          },
          "metadata": {
            "tags": [],
            "needs_background": "light"
          }
        }
      ]
    },
    {
      "cell_type": "code",
      "metadata": {
        "id": "zFbJjIetphYN"
      },
      "source": [
        " import matplotlib.pyplot as plt"
      ],
      "execution_count": 96,
      "outputs": []
    },
    {
      "cell_type": "code",
      "metadata": {
        "colab": {
          "base_uri": "https://localhost:8080/",
          "height": 297
        },
        "id": "mKj0kHz4phbH",
        "outputId": "f8628a2e-e13c-41ed-9396-e182d7d175bc"
      },
      "source": [
        "microdados.filter(items=['Genre','Global_Sales'])\\\r\n",
        "                 .groupby('Genre')\\\r\n",
        "                 .count().sort_values(by = 'Global_Sales',ascending=False)\\\r\n",
        "                 .unstack().plot()"
      ],
      "execution_count": 100,
      "outputs": [
        {
          "output_type": "execute_result",
          "data": {
            "text/plain": [
              "<matplotlib.axes._subplots.AxesSubplot at 0x7fa22b9e8710>"
            ]
          },
          "metadata": {
            "tags": []
          },
          "execution_count": 100
        },
        {
          "output_type": "display_data",
          "data": {
            "image/png": "[encoded data removed]",
            "text/plain": [
              "<Figure size 432x288 with 1 Axes>"
            ]
          },
          "metadata": {
            "tags": [],
            "needs_background": "light"
          }
        }
      ]
    },
    {
      "cell_type": "code",
      "metadata": {
        "id": "dX5xrJD1phd7"
      },
      "source": [
        ""
      ],
      "execution_count": null,
      "outputs": []
    },
    {
      "cell_type": "code",
      "metadata": {
        "id": "8CC_eyeyphhI"
      },
      "source": [
        ""
      ],
      "execution_count": null,
      "outputs": []
    },
    {
      "cell_type": "code",
      "metadata": {
        "id": "s_SkAI24phjs"
      },
      "source": [
        ""
      ],
      "execution_count": null,
      "outputs": []
    },
    {
      "cell_type": "code",
      "metadata": {
        "id": "gAxpMZ1yphml"
      },
      "source": [
        ""
      ],
      "execution_count": null,
      "outputs": []
    },
    {
      "cell_type": "code",
      "metadata": {
        "id": "XdYxcj5sphpt"
      },
      "source": [
        ""
      ],
      "execution_count": null,
      "outputs": []
    },
    {
      "cell_type": "code",
      "metadata": {
        "id": "B-9mTYRpphsM"
      },
      "source": [
        ""
      ],
      "execution_count": null,
      "outputs": []
    },
    {
      "cell_type": "code",
      "metadata": {
        "id": "R36UWAnsphut"
      },
      "source": [
        ""
      ],
      "execution_count": null,
      "outputs": []
    },
    {
      "cell_type": "code",
      "metadata": {
        "id": "7uxSqKkIQ9t7"
      },
      "source": [
        ""
      ],
      "execution_count": null,
      "outputs": []
    },
    {
      "cell_type": "code",
      "metadata": {
        "id": "1PdK86ZvQ9wg"
      },
      "source": [
        ""
      ],
      "execution_count": null,
      "outputs": []
    },
    {
      "cell_type": "code",
      "metadata": {
        "id": "tn0NsR84Q9zN"
      },
      "source": [
        ""
      ],
      "execution_count": null,
      "outputs": []
    },
    {
      "cell_type": "code",
      "metadata": {
        "id": "p-5Oai0_Q91W"
      },
      "source": [
        ""
      ],
      "execution_count": null,
      "outputs": []
    },
    {
      "cell_type": "code",
      "metadata": {
        "id": "1o76gYUsQ94c"
      },
      "source": [
        ""
      ],
      "execution_count": null,
      "outputs": []
    },
    {
      "cell_type": "code",
      "metadata": {
        "id": "OKIxSQLQQ96b"
      },
      "source": [
        ""
      ],
      "execution_count": null,
      "outputs": []
    }
  ]
}